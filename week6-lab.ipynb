name = input(prompt="What is your name? ")//insert code
